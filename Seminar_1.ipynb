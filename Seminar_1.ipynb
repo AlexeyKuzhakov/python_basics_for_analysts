{
 "cells": [
  {
   "cell_type": "markdown",
   "id": "14def586",
   "metadata": {},
   "source": [
    "## Семинар 1"
   ]
  },
  {
   "cell_type": "markdown",
   "id": "b7f4bdda",
   "metadata": {},
   "source": [
    "### Задача 1"
   ]
  },
  {
   "cell_type": "code",
   "execution_count": 2,
   "id": "a81a13c4",
   "metadata": {},
   "outputs": [
    {
     "name": "stdout",
     "output_type": "stream",
     "text": [
      "{'one': 1, 'two': 2, 'three': 3, 'four': 4, 'five': 5, 'six': 6}\n"
     ]
    }
   ],
   "source": [
    "def dict_merge(d1: dict, d2: dict) -> dict:\n",
    "    return d1 | d2\n",
    "\n",
    "dict1 = {'one': 1, 'two': 2, 'three': 3}\n",
    "dict2 = {'four': 4, 'five': 5, 'six': 6}\n",
    "res = dict_merge(dict1, dict2)\n",
    "print(res)"
   ]
  },
  {
   "cell_type": "markdown",
   "id": "97d3825c",
   "metadata": {},
   "source": [
    "### Задача 2"
   ]
  },
  {
   "cell_type": "code",
   "execution_count": 3,
   "id": "c52080aa",
   "metadata": {},
   "outputs": [
    {
     "name": "stdout",
     "output_type": "stream",
     "text": [
      "{'one': 1, 'two': 2, 'three': 3}\n"
     ]
    }
   ],
   "source": [
    "keys = ['one', 'two', 'three']\n",
    "values = [1, 2, 3]\n",
    "res = {}\n",
    "\n",
    "for i in range (len(keys)):\n",
    "    res[keys[i]] = values[i]\n",
    "print(res)"
   ]
  },
  {
   "cell_type": "code",
   "execution_count": 4,
   "id": "57cfa9f5",
   "metadata": {},
   "outputs": [
    {
     "name": "stdout",
     "output_type": "stream",
     "text": [
      "{'one': 1, 'two': 2, 'three': 3}\n"
     ]
    }
   ],
   "source": [
    "res_comp = {keys[i]: values[i] for i in range(len(keys))}\n",
    "print(res_comp)"
   ]
  },
  {
   "cell_type": "markdown",
   "id": "cbd7ed47",
   "metadata": {},
   "source": [
    "### Задача 3"
   ]
  },
  {
   "cell_type": "code",
   "execution_count": 8,
   "id": "40e167dd",
   "metadata": {},
   "outputs": [
    {
     "name": "stdout",
     "output_type": "stream",
     "text": [
      "{'name': 'John', 'age': '22', 'city': 'Syzran'}\n"
     ]
    }
   ],
   "source": [
    "def my_filt(dic: dict, fil: list):\n",
    "    result = {}\n",
    "    for i in range(len(fil)):\n",
    "        result[fil[i]] = client_dict.get(fil[i])\n",
    "    return result\n",
    "\n",
    "client_dict = {'name': 'John', 'age': '22', 'salary': '120000', 'city': 'Syzran'}\n",
    "filt = ['name', 'age', 'city']\n",
    "print(my_filt(client_dict, filt))"
   ]
  }
 ],
 "metadata": {
  "kernelspec": {
   "display_name": "Python 3 (ipykernel)",
   "language": "python",
   "name": "python3"
  },
  "language_info": {
   "codemirror_mode": {
    "name": "ipython",
    "version": 3
   },
   "file_extension": ".py",
   "mimetype": "text/x-python",
   "name": "python",
   "nbconvert_exporter": "python",
   "pygments_lexer": "ipython3",
   "version": "3.9.13"
  }
 },
 "nbformat": 4,
 "nbformat_minor": 5
}
