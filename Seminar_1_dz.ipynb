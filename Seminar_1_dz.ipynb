{
 "cells": [
  {
   "cell_type": "markdown",
   "id": "b28cd9bc",
   "metadata": {},
   "source": [
    "## Задание 2"
   ]
  },
  {
   "cell_type": "markdown",
   "id": "2856e105",
   "metadata": {},
   "source": [
    "На складе лежат разные фрукты в разном количестве.\n",
    "Нужно написать функцию, которая на вход принимает любое количество названий фруктов и их количество, а возвращает общее количество фруктов на складе"
   ]
  },
  {
   "cell_type": "code",
   "execution_count": 9,
   "id": "cbec1aa5",
   "metadata": {},
   "outputs": [],
   "source": [
    "fruits = {'apple': 20, 'banana': 16, 'kiwi': 4, 'pear': 10, 'tangerine': 15}"
   ]
  },
  {
   "cell_type": "code",
   "execution_count": 5,
   "id": "f7af7024",
   "metadata": {},
   "outputs": [],
   "source": [
    "def sum_fruits(dic: dict):\n",
    "    result = 0\n",
    "    for i in dic.values():\n",
    "        result += i\n",
    "    return result"
   ]
  },
  {
   "cell_type": "code",
   "execution_count": 10,
   "id": "77141b92",
   "metadata": {},
   "outputs": [
    {
     "name": "stdout",
     "output_type": "stream",
     "text": [
      "Общее количество фруктов на складе: 65\n"
     ]
    }
   ],
   "source": [
    "print(f'Общее количество фруктов на складе: {sum_fruits(fruits)}')"
   ]
  },
  {
   "cell_type": "markdown",
   "id": "815d2544",
   "metadata": {},
   "source": [
    "## Задание 3"
   ]
  },
  {
   "cell_type": "markdown",
   "id": "94ec3d8f",
   "metadata": {},
   "source": [
    "Дан список с затратами на рекламу. Но в данных есть ошибки, некоторые затраты имеют отрицательную величину. Удалите такие значения из списка и посчитайте суммарные затраты\n",
    "[100, 125, -90, 345, 655, -1, 0, 200]\n",
    "Используйте list comprehensions"
   ]
  },
  {
   "cell_type": "code",
   "execution_count": 11,
   "id": "a6b57877",
   "metadata": {},
   "outputs": [],
   "source": [
    "list_costs = [100, 125, -90, 345, 655, -1, 0, 200]"
   ]
  },
  {
   "cell_type": "code",
   "execution_count": 13,
   "id": "aa702b8a",
   "metadata": {},
   "outputs": [
    {
     "name": "stdout",
     "output_type": "stream",
     "text": [
      "Общие затраты без ошибочных данных: 1425\n"
     ]
    }
   ],
   "source": [
    "positive_list = [i for i in list_costs if i > 0]\n",
    "print(f'Общие затраты без ошибочных данных: {sum(positive_list)}')"
   ]
  },
  {
   "cell_type": "markdown",
   "id": "b5ac1e71",
   "metadata": {},
   "source": [
    "## Задание 4"
   ]
  },
  {
   "cell_type": "markdown",
   "id": "94742bb5",
   "metadata": {},
   "source": [
    "Даны два списка.\n",
    "Дата покупки\n",
    "\n",
    "['2021-09-14', '2021-12-15', '2021-09-08', '2021-12-05', '2021-10-09', '2021-09-30', '2021-12-22', '2021-11-29', '2021-12-24', '2021-11-26', '2021-10-27', '2021-12-18', '2021-11-09', '2021-11-23', '2021-09-27', '2021-10-02', '2021-12-27', '2021-09-20', '2021-12-13', '2021-11-01', '2021-11-09', '2021-12-06', '2021-12-08', '2021-10-09', '2021-10-31', '2021-09-30', '2021-11-09', '2021-12-13', '2021-10-26', '2021-12-09']\n",
    "\n",
    "Суммы покупок по датам\n",
    "\n",
    "[1270, 8413, 9028, 3703, 5739, 4095, 295, 4944, 5723, 3701, 4471, 651, 7037, 4274, 6275, 4988, 6930, 2971, 6592, 2004, 2822, 519, 3406, 2732, 5015, 2008, 316, 6333, 5700, 2887]"
   ]
  },
  {
   "cell_type": "markdown",
   "id": "6348723a",
   "metadata": {},
   "source": [
    "### 4.1"
   ]
  },
  {
   "cell_type": "markdown",
   "id": "af016ebd",
   "metadata": {},
   "source": [
    "Найдите, какая выручка у компании в ноябре\n",
    "Используйте list comprehensions"
   ]
  },
  {
   "cell_type": "code",
   "execution_count": 17,
   "id": "52798f4e",
   "metadata": {},
   "outputs": [],
   "source": [
    "date_list = ['2021-09-14', '2021-12-15', '2021-09-08', '2021-12-05', '2021-10-09', '2021-09-30', '2021-12-22', '2021-11-29', \n",
    "             '2021-12-24', '2021-11-26', '2021-10-27', '2021-12-18', '2021-11-09', '2021-11-23', '2021-09-27', '2021-10-02', \n",
    "             '2021-12-27', '2021-09-20', '2021-12-13', '2021-11-01', '2021-11-09', '2021-12-06', '2021-12-08', '2021-10-09', \n",
    "             '2021-10-31', '2021-09-30', '2021-11-09', '2021-12-13', '2021-10-26', '2021-12-09']\n",
    "\n",
    "sum_list = [1270, 8413, 9028, 3703, 5739, 4095, 295, 4944, 5723, 3701, 4471, 651, 7037, 4274, 6275, 4988, 6930, 2971, 6592, \n",
    "            2004, 2822, 519, 3406, 2732, 5015, 2008, 316, 6333, 5700, 2887]"
   ]
  },
  {
   "cell_type": "code",
   "execution_count": 60,
   "id": "b49f26c4",
   "metadata": {},
   "outputs": [],
   "source": [
    "result = sum([sum_list[i] for i in range(len(date_list)) if date_list[i].split('-')[1]=='11'])"
   ]
  },
  {
   "cell_type": "code",
   "execution_count": 61,
   "id": "9d3ea660",
   "metadata": {},
   "outputs": [
    {
     "name": "stdout",
     "output_type": "stream",
     "text": [
      "Выручка компании в ноября: 25098\n"
     ]
    }
   ],
   "source": [
    "print(f'Выручка компании в ноября: {result}')"
   ]
  },
  {
   "cell_type": "markdown",
   "id": "101128a3",
   "metadata": {},
   "source": [
    "### 4.2"
   ]
  },
  {
   "cell_type": "markdown",
   "id": "6a2c375a",
   "metadata": {},
   "source": [
    "Найдите выручку компании в зависимости от месяца\n",
    "Для этого напишите функцию, которая на вход принимает список с датами и список с выручкой, а на выходе словарь, где ключи - это месяцы, а значения - это выручка.\n",
    "Используйте аннотирование типов."
   ]
  },
  {
   "cell_type": "code",
   "execution_count": 66,
   "id": "c2c6c8f0",
   "metadata": {},
   "outputs": [],
   "source": [
    "def sum_month(date = list, summ = list) -> dict:\n",
    "    result_date = {}\n",
    "    \n",
    "    for i in range(len(date_list)):\n",
    "        month = date_list[i].split('-')[1]\n",
    "        if month in result_date:\n",
    "            result_date[month] += sum_list[i]\n",
    "        else:\n",
    "            result_date[month] = sum_list[i]\n",
    "    return result_date"
   ]
  },
  {
   "cell_type": "code",
   "execution_count": 67,
   "id": "1c8cf12b",
   "metadata": {},
   "outputs": [
    {
     "data": {
      "text/plain": [
       "{'09': 25647, '12': 45452, '10': 28645, '11': 25098}"
      ]
     },
     "execution_count": 67,
     "metadata": {},
     "output_type": "execute_result"
    }
   ],
   "source": [
    "sum_month(date_list, sum_list)"
   ]
  }
 ],
 "metadata": {
  "kernelspec": {
   "display_name": "Python 3 (ipykernel)",
   "language": "python",
   "name": "python3"
  },
  "language_info": {
   "codemirror_mode": {
    "name": "ipython",
    "version": 3
   },
   "file_extension": ".py",
   "mimetype": "text/x-python",
   "name": "python",
   "nbconvert_exporter": "python",
   "pygments_lexer": "ipython3",
   "version": "3.9.13"
  }
 },
 "nbformat": 4,
 "nbformat_minor": 5
}
